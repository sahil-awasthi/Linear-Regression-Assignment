{
 "cells": [
  {
   "cell_type": "code",
   "execution_count": 1,
   "id": "78afe74b",
   "metadata": {},
   "outputs": [
    {
     "name": "stdout",
     "output_type": "stream",
     "text": [
      "R-squared score on test set: 0.4307885026277509\n"
     ]
    }
   ],
   "source": [
    "import pandas as pd\n",
    "from sklearn.model_selection import train_test_split\n",
    "from sklearn.linear_model import LinearRegression\n",
    "from sklearn.metrics import r2_score\n",
    "\n",
    "# Load the dataset\n",
    "df = pd.read_csv('day.csv')\n",
    "\n",
    "# Convert 'season', 'weathersit', 'mnth', and 'weekday' into categorical variables\n",
    "df['season'] = df['season'].astype('category')\n",
    "df['weathersit'] = df['weathersit'].astype('category')\n",
    "df['mnth'] = df['mnth'].astype('category')\n",
    "df['weekday'] = df['weekday'].astype('category')\n",
    "df['holiday'] = df['holiday'].astype('category')\n",
    "\n",
    "# Create dummy variables\n",
    "df = pd.get_dummies(df, drop_first=True)\n",
    "\n",
    "# Define the target variable\n",
    "y = df['cnt']\n",
    "\n",
    "# Define the columns to drop, only if they exist in the dataframe\n",
    "columns_to_drop = ['cnt', 'casual', 'registered', 'dteday', 'instant']\n",
    "\n",
    "# Drop the columns that are present in the dataframe\n",
    "X = df.drop([col for col in columns_to_drop if col in df.columns], axis=1)\n",
    "\n",
    "# Split the data into training and testing sets\n",
    "X_train, X_test, y_train, y_test = train_test_split(X, y, test_size=0.3, random_state=42)\n",
    "\n",
    "# Initialize the linear regression model\n",
    "lr = LinearRegression()\n",
    "\n",
    "# Fit the model to the training data\n",
    "lr.fit(X_train, y_train)\n",
    "\n",
    "# Predict on the test set\n",
    "y_pred = lr.predict(X_test)\n",
    "\n",
    "# Calculate the R-squared score\n",
    "r2 = r2_score(y_test, y_pred)\n",
    "print(f'R-squared score on test set: {r2}')\n"
   ]
  },
  {
   "cell_type": "code",
   "execution_count": 4,
   "id": "14917793",
   "metadata": {},
   "outputs": [
    {
     "name": "stdout",
     "output_type": "stream",
     "text": [
      "2.1.4\n",
      "1.2.2\n",
      "3.8.0\n",
      "0.12.2\n"
     ]
    }
   ],
   "source": [
    "import pandas as pd\n",
    "print(pd.__version__)\n",
    "import sklearn\n",
    "print(sklearn.__version__)\n",
    "import matplotlib\n",
    "print(matplotlib.__version__)\n",
    "import seaborn as sns\n",
    "print(sns.__version__)\n"
   ]
  },
  {
   "cell_type": "code",
   "execution_count": 3,
   "id": "f8fa2581",
   "metadata": {},
   "outputs": [
    {
     "ename": "SyntaxError",
     "evalue": "invalid syntax (4218685114.py, line 1)",
     "output_type": "error",
     "traceback": [
      "\u001b[0;36m  Cell \u001b[0;32mIn[3], line 1\u001b[0;36m\u001b[0m\n\u001b[0;31m    python -c \"import pandas as pd; print(pd.__version__)\"\u001b[0m\n\u001b[0m              ^\u001b[0m\n\u001b[0;31mSyntaxError\u001b[0m\u001b[0;31m:\u001b[0m invalid syntax\n"
     ]
    }
   ],
   "source": [
    "python -c \"import pandas as pd; print(pd.__version__)\"\n",
    "python -c \"import sklearn; print(sklearn.__version__)\"\n",
    "python -c \"import matplotlib; print(matplotlib.__version__)\"\n",
    "python -c \"import seaborn as sns; print(sns.__version__)\"\n"
   ]
  },
  {
   "cell_type": "code",
   "execution_count": 5,
   "id": "d835b834",
   "metadata": {},
   "outputs": [
    {
     "ename": "SyntaxError",
     "evalue": "invalid character '–' (U+2013) (3044276362.py, line 1)",
     "output_type": "error",
     "traceback": [
      "\u001b[0;36m  Cell \u001b[0;32mIn[5], line 1\u001b[0;36m\u001b[0m\n\u001b[0;31m    python –version\u001b[0m\n\u001b[0m           ^\u001b[0m\n\u001b[0;31mSyntaxError\u001b[0m\u001b[0;31m:\u001b[0m invalid character '–' (U+2013)\n"
     ]
    }
   ],
   "source": [
    "python –version\n"
   ]
  },
  {
   "cell_type": "code",
   "execution_count": null,
   "id": "732f18aa",
   "metadata": {},
   "outputs": [],
   "source": []
  }
 ],
 "metadata": {
  "kernelspec": {
   "display_name": "Python 3 (ipykernel)",
   "language": "python",
   "name": "python3"
  },
  "language_info": {
   "codemirror_mode": {
    "name": "ipython",
    "version": 3
   },
   "file_extension": ".py",
   "mimetype": "text/x-python",
   "name": "python",
   "nbconvert_exporter": "python",
   "pygments_lexer": "ipython3",
   "version": "3.11.7"
  }
 },
 "nbformat": 4,
 "nbformat_minor": 5
}
